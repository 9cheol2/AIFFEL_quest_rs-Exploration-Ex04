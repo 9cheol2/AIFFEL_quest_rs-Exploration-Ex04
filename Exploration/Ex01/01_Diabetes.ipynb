{
 "cells": [
  {
   "cell_type": "code",
   "execution_count": 1,
   "id": "8ed44103-48e9-4da5-8c14-65b56b36fe58",
   "metadata": {},
   "outputs": [],
   "source": [
    "'''\n",
    "프로젝트 1 : 손수 설계하는 선형회귀, 당뇨병 수치를 맞춰보자!\n",
    "첫 번째 프로젝트에서는 우리가 오늘 많은 시간을 들여서 직접 실습해 보았던 모델 설계, 손실함수 정의와 기울기 계산을 구현해 보겠습니다.\n",
    "\n",
    "새로운 데이터로 프로젝트를 진행하지만, 과정은 모두 동일합니다. 함께 진행했던 과정과 코드를 참고하여 충분히 고민한 후 진행해 보세요.\n",
    "\n",
    "데이터는 sklearn.datasets에 있는 데이터 중 하나인 당뇨병 데이터를 사용하겠습니다.\n",
    "\n",
    "데이터에 관한 정보를 다음 글에서 살펴보세요. 데이터에 대한 이해는 언제나 첫 번째로 해야하는 필수 과정입니다!\n",
    "\n",
    "다음 과정을 차례대로 진행해주세요!\n",
    "\n",
    "(1) 데이터 가져오기\n",
    "sklearn.datasets의 load_diabetes에서 데이터를 가져와주세요.\n",
    "diabetes의 data를 df_X에, target을 df_y에 저장해주세요.\n",
    "'''\n",
    "\n",
    "from sklearn.datasets import load_diabetes\n",
    "data = load_diabetes()\n",
    "df_X = data.data\n",
    "df_y = data.target"
   ]
  },
  {
   "cell_type": "code",
   "execution_count": 2,
   "id": "902cb478-e9ac-4907-b56f-4cb8b7fed020",
   "metadata": {},
   "outputs": [
    {
     "name": "stdout",
     "output_type": "stream",
     "text": [
      "<class 'numpy.ndarray'> float64\n"
     ]
    }
   ],
   "source": [
    "'''\n",
    "(2) 모델에 입력할 데이터 X 준비하기\n",
    "df_X에 있는 값들을 numpy array로 변환해서 저장해주세요.\n",
    "'''\n",
    "\n",
    "import numpy as np\n",
    "\n",
    "X = np.array(df_X)\n",
    "\n",
    "print(type(X), X.dtype)"
   ]
  },
  {
   "cell_type": "code",
   "execution_count": 3,
   "id": "c9b105f3-1f3f-4b34-93d4-c32e21aec089",
   "metadata": {},
   "outputs": [
    {
     "name": "stdout",
     "output_type": "stream",
     "text": [
      "<class 'numpy.ndarray'> float64\n"
     ]
    }
   ],
   "source": [
    "'''\n",
    "(3) 모델에 예측할 데이터 y 준비하기\n",
    "df_y에 있는 값들을 numpy array로 변환해서 저장해주세요.\n",
    "'''\n",
    "\n",
    "y = np.array(df_y)\n",
    "\n",
    "print(type(y), y.dtype)"
   ]
  },
  {
   "cell_type": "code",
   "execution_count": 4,
   "id": "74ddf5d1-5a8f-47c5-94b9-128adc3b7b2b",
   "metadata": {},
   "outputs": [
    {
     "name": "stdout",
     "output_type": "stream",
     "text": [
      "(353, 10) (353,)\n",
      "(89, 10) (89,)\n"
     ]
    }
   ],
   "source": [
    "'''\n",
    "(4) train 데이터와 test 데이터로 분리하기\n",
    "X와 y 데이터를 각각 train 데이터와 test 데이터로 분리해주세요.\n",
    "'''\n",
    "\n",
    "from sklearn.model_selection import train_test_split\n",
    "X_train, X_test, y_train, y_test = train_test_split(X, y, test_size=0.2, random_state=42)\n",
    "\n",
    "print(X_train.shape, y_train.shape)\n",
    "print(X_test.shape, y_test.shape)"
   ]
  },
  {
   "cell_type": "code",
   "execution_count": 5,
   "id": "50307bd6-c1f3-4ba3-a1c6-add408d759dc",
   "metadata": {},
   "outputs": [],
   "source": [
    "'''\n",
    "+ 특성 스케일링 부분추가\n",
    "'''\n",
    "\n",
    "# 특성 스케일링 (표준화)\n",
    "mean = X_train.mean(axis=0)\n",
    "std  = X_train.std(axis=0)\n",
    "\n",
    "# 학습 데이터와 테스트 데이터에 동일한 평균·표준편차 적용 (평균 0, 표준편차 1)\n",
    "X_train = (X_train - mean) / std\n",
    "X_test  = (X_test  - mean) / std\n"
   ]
  },
  {
   "cell_type": "code",
   "execution_count": 6,
   "id": "cb727c24-30d5-47b6-95cb-dfc4a1f24f0f",
   "metadata": {},
   "outputs": [
    {
     "name": "stdout",
     "output_type": "stream",
     "text": [
      "10\n"
     ]
    }
   ],
   "source": [
    "'''\n",
    "(5) 모델 준비하기\n",
    "입력 데이터 개수에 맞는 가중치 W와 b를 준비해주세요.\n",
    "모델 함수를 구현해주세요.\n",
    "'''\n",
    "\n",
    "W = np.random.rand(X_train.shape[1])\n",
    "b = np.random.rand()\n",
    "\n",
    "print(len(W))"
   ]
  },
  {
   "cell_type": "code",
   "execution_count": 7,
   "id": "e504fd65-5325-4df3-9d42-812ba65b3ebb",
   "metadata": {},
   "outputs": [],
   "source": [
    "def model(X, W, b):\n",
    "    predictions = 0\n",
    "    for i in range(len(W)):\n",
    "        predictions += X[:, i] * W[i]\n",
    "    predictions += b\n",
    "    return predictions"
   ]
  },
  {
   "cell_type": "code",
   "execution_count": 8,
   "id": "4fbb2b18-945d-4a47-98e5-a0bd4af27785",
   "metadata": {},
   "outputs": [],
   "source": [
    "'''\n",
    "(6) 손실함수 loss 정의하기\n",
    "손실함수를 MSE 함수로 정의해주세요.\n",
    "'''\n",
    "\n",
    "def MSE(a, b):\n",
    "    mse = ((a - b) ** 2).mean()  # 두 값의 차이의 제곱의 평균\n",
    "    return mse"
   ]
  },
  {
   "cell_type": "code",
   "execution_count": 9,
   "id": "56247a4b-dd14-48a7-b5f2-080964463649",
   "metadata": {},
   "outputs": [],
   "source": [
    "def loss(X, W, b, y):\n",
    "    predictions = model(X, W, b)\n",
    "    L = MSE(predictions, y)\n",
    "    return L"
   ]
  },
  {
   "cell_type": "code",
   "execution_count": 10,
   "id": "910eec40-60bd-4819-8d26-b13fb008e838",
   "metadata": {},
   "outputs": [],
   "source": [
    "'''\n",
    "(7) 기울기를 구하는 gradient 함수 구현하기\n",
    "기울기를 계산하는 gradient 함수를 구현해주세요.\n",
    "'''\n",
    "\n",
    "def gradient(X, W, b, y):\n",
    "    N = len(y)\n",
    "\n",
    "    y_pred = model(X, W, b)\n",
    "\n",
    "    dW = 1/N * 2 * X.T.dot(y_pred - y)\n",
    "\n",
    "    db = 2 * (y_pred - y).mean()\n",
    "    return dW, db"
   ]
  },
  {
   "cell_type": "code",
   "execution_count": 11,
   "id": "a88ecf89-4a54-4afe-a41e-8e8f3c97e04b",
   "metadata": {},
   "outputs": [],
   "source": [
    "'''\n",
    "(8) 하이퍼 파라미터인 학습률 설정하기\n",
    "학습률, learning rate 를 설정해주세요\n",
    "만약 학습이 잘 되지 않는다면 learning rate 값을 한번 여러 가지로 설정하며 실험해 보세요.\n",
    "'''\n",
    "\n",
    "LEARNING_RATE = 0.01 # 0.001 -> 0.01 로 수정"
   ]
  },
  {
   "cell_type": "code",
   "execution_count": 12,
   "id": "694265c2-a4e2-40de-ba67-382ff66e7999",
   "metadata": {},
   "outputs": [
    {
     "name": "stdout",
     "output_type": "stream",
     "text": [
      "Iteration 100 : Loss 3334.5366\n",
      "Iteration 200 : Loss 2905.9943\n",
      "Iteration 300 : Loss 2896.6743\n",
      "Iteration 400 : Loss 2895.4322\n",
      "Iteration 500 : Loss 2894.4420\n",
      "Iteration 600 : Loss 2893.4996\n",
      "Iteration 700 : Loss 2892.5930\n",
      "Iteration 800 : Loss 2891.7199\n",
      "Iteration 900 : Loss 2890.8788\n",
      "Iteration 1000 : Loss 2890.0684\n"
     ]
    }
   ],
   "source": [
    "'''\n",
    "(9) 모델 학습하기\n",
    "정의된 손실함수와 기울기 함수로 모델을 학습해주세요.\n",
    "loss값이 충분히 떨어질 때까지 학습을 진행해주세요.\n",
    "입력하는 데이터인 X에 들어가는 특성 컬럼들을 몇 개 빼도 괜찮습니다. 다양한 데이터로 실험해 보세요.\n",
    "'''\n",
    "\n",
    "%timeit -n 1 -r 1\n",
    "global W, b\n",
    "\n",
    "losses = []\n",
    "\n",
    "for i in range(1, 1001):\n",
    "    dW, db = gradient(X_train, W, b, y_train)\n",
    "    W -= LEARNING_RATE * dW\n",
    "    b -= LEARNING_RATE * db\n",
    "    L = loss(X_train, W, b, y_train)\n",
    "    losses.append(L)\n",
    "    if i % 100 == 0:\n",
    "        print('Iteration %d : Loss %0.4f' % (i, L))"
   ]
  },
  {
   "cell_type": "code",
   "execution_count": 13,
   "id": "b220013d-c6e6-43f5-87b1-918ffcbf5a22",
   "metadata": {},
   "outputs": [
    {
     "data": {
      "text/plain": [
       "np.float64(2885.8586090435083)"
      ]
     },
     "execution_count": 13,
     "metadata": {},
     "output_type": "execute_result"
    }
   ],
   "source": [
    "'''\n",
    "(10) test 데이터에 대한 성능 확인하기\n",
    "test 데이터에 대한 성능을 확인해주세요.\n",
    "'''\n",
    "\n",
    "prediction = model(X_test, W, b)\n",
    "mse = loss(X_test, W, b, y_test)\n",
    "mse"
   ]
  },
  {
   "cell_type": "code",
   "execution_count": 14,
   "id": "d6a126fa-9d26-4106-9f8a-e803eda469de",
   "metadata": {},
   "outputs": [
    {
     "data": {
      "image/png": "[encoded data removed]",
      "text/plain": [
       "<Figure size 640x480 with 1 Axes>"
      ]
     },
     "metadata": {},
     "output_type": "display_data"
    }
   ],
   "source": [
    "'''\n",
    "(11) 정답 데이터와 예측한 데이터 시각화하기\n",
    "x축에는 X 데이터의 첫 번째 컬럼을, y축에는 정답인 target 데이터를 넣어서 모델이 예측한 데이터를 시각화해 주세요.\n",
    "'''\n",
    "\n",
    "import matplotlib.pyplot as plt\n",
    "\n",
    "plt.scatter(X_test[:, 0], y_test)\n",
    "plt.scatter(X_test[:, 0], prediction)\n",
    "plt.show()"
   ]
  },
  {
   "cell_type": "code",
   "execution_count": null,
   "id": "3541c276-f669-4a57-ac50-6e5beb8bc23b",
   "metadata": {},
   "outputs": [],
   "source": []
  }
 ],
 "metadata": {
  "kernelspec": {
   "display_name": "Python 3 (ipykernel)",
   "language": "python",
   "name": "python3"
  },
  "language_info": {
   "codemirror_mode": {
    "name": "ipython",
    "version": 3
   },
   "file_extension": ".py",
   "mimetype": "text/x-python",
   "name": "python",
   "nbconvert_exporter": "python",
   "pygments_lexer": "ipython3",
   "version": "3.12.11"
  }
 },
 "nbformat": 4,
 "nbformat_minor": 5
}
