{
 "cells": [
  {
   "cell_type": "code",
   "execution_count": null,
   "id": "ba8de041-bb25-47bb-bb05-d51629407adb",
   "metadata": {},
   "outputs": [],
   "source": []
  }
 ],
 "metadata": {
  "kernelspec": {
   "display_name": "",
   "name": ""
  },
  "language_info": {
   "name": ""
  }
 },
 "nbformat": 4,
 "nbformat_minor": 5
}
