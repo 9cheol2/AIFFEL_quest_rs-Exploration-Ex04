{
 "cells": [
  {
   "cell_type": "code",
   "execution_count": null,
   "id": "d17d3f17-e1fb-4e48-8e15-e232ffcdb1e7",
   "metadata": {},
   "outputs": [],
   "source": []
  }
 ],
 "metadata": {
  "kernelspec": {
   "display_name": "",
   "name": ""
  },
  "language_info": {
   "name": ""
  }
 },
 "nbformat": 4,
 "nbformat_minor": 5
}
